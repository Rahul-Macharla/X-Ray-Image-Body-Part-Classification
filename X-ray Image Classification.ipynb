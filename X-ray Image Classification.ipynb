{
 "cells": [
  {
   "cell_type": "markdown",
   "metadata": {},
   "source": [
    "## Import required libraries"
   ]
  },
  {
   "cell_type": "code",
   "execution_count": 1,
   "metadata": {},
   "outputs": [],
   "source": [
    "import numpy as np \n",
    "import pandas as pd \n",
    "import matplotlib.pyplot as plt\n",
    "import cv2\n",
    "import tensorflow as tf\n",
    "from PIL import Image\n",
    "import os\n",
    "from sklearn.model_selection import train_test_split\n",
    "from keras.utils import to_categorical\n",
    "from keras.models import Sequential, load_model\n",
    "from keras.layers import Conv2D, MaxPool2D, Dense, Flatten, Dropout"
   ]
  },
  {
   "cell_type": "markdown",
   "metadata": {},
   "source": [
    "## Store data, labels in the list"
   ]
  },
  {
   "cell_type": "code",
   "execution_count": 2,
   "metadata": {},
   "outputs": [],
   "source": [
    "data = []\n",
    "labels = []\n",
    "classes = 10\n",
    "cur_path = os.getcwd()"
   ]
  },
  {
   "cell_type": "code",
   "execution_count": 3,
   "metadata": {},
   "outputs": [
    {
     "data": {
      "text/plain": [
       "'D:\\\\DATA SCIENCE\\\\DataSets\\\\Research\\\\Pixxort\\\\Body Part detection'"
      ]
     },
     "execution_count": 3,
     "metadata": {},
     "output_type": "execute_result"
    }
   ],
   "source": [
    "cur_path"
   ]
  },
  {
   "cell_type": "markdown",
   "metadata": {},
   "source": [
    "## Preprocess the images"
   ]
  },
  {
   "cell_type": "code",
   "execution_count": 4,
   "metadata": {},
   "outputs": [],
   "source": [
    "for i in range(classes):\n",
    "    path = os.path.join(cur_path,'train',str(i))\n",
    "    images = os.listdir(path)\n",
    "    for a in images:\n",
    "        try:\n",
    "            image = Image.open(path + '\\\\'+ a).convert(\"RGB\")\n",
    "            image = image.resize((30,30))\n",
    "            image = np.array(image)\n",
    "            data.append(image)\n",
    "            labels.append(i)\n",
    "        except Exception as e:\n",
    "            print(e)"
   ]
  },
  {
   "cell_type": "markdown",
   "metadata": {},
   "source": [
    "## Converting lists into numpy arrays"
   ]
  },
  {
   "cell_type": "code",
   "execution_count": 5,
   "metadata": {},
   "outputs": [],
   "source": [
    "#data = np.array(data)\n",
    "labels = np.array(labels)"
   ]
  },
  {
   "cell_type": "markdown",
   "metadata": {},
   "source": [
    "## Save Labels & Data for future use"
   ]
  },
  {
   "cell_type": "code",
   "execution_count": 6,
   "metadata": {},
   "outputs": [],
   "source": [
    "os.mkdir('retraining')\n",
    "\n",
    "np.save('./retraining/data',data)\n",
    "np.save('./retraining/target',labels)"
   ]
  },
  {
   "cell_type": "markdown",
   "metadata": {},
   "source": [
    "## Load data & Labels"
   ]
  },
  {
   "cell_type": "code",
   "execution_count": 7,
   "metadata": {},
   "outputs": [],
   "source": [
    "data=np.load('./retraining/data.npy')\n",
    "labels=np.load('./retraining/target.npy')"
   ]
  },
  {
   "cell_type": "code",
   "execution_count": 8,
   "metadata": {},
   "outputs": [
    {
     "name": "stdout",
     "output_type": "stream",
     "text": [
      "(7699, 30, 30, 3) (7699,)\n"
     ]
    }
   ],
   "source": [
    "print(data.shape, labels.shape)"
   ]
  },
  {
   "cell_type": "code",
   "execution_count": 9,
   "metadata": {},
   "outputs": [],
   "source": [
    "X_train, X_test, y_train, y_test = train_test_split(data, labels, test_size=0.2, random_state=20)"
   ]
  },
  {
   "cell_type": "code",
   "execution_count": 10,
   "metadata": {},
   "outputs": [
    {
     "name": "stdout",
     "output_type": "stream",
     "text": [
      "(6159, 30, 30, 3) (1540, 30, 30, 3) (6159,) (1540,)\n"
     ]
    }
   ],
   "source": [
    "print(X_train.shape, X_test.shape, y_train.shape, y_test.shape)"
   ]
  },
  {
   "cell_type": "markdown",
   "metadata": {},
   "source": [
    "## Convert labels to onehot encoding"
   ]
  },
  {
   "cell_type": "code",
   "execution_count": 11,
   "metadata": {},
   "outputs": [],
   "source": [
    "y_train = to_categorical(y_train, 10)\n",
    "y_test = to_categorical(y_test, 10)"
   ]
  },
  {
   "cell_type": "markdown",
   "metadata": {},
   "source": [
    "## Now it's time to build the model"
   ]
  },
  {
   "cell_type": "code",
   "execution_count": 12,
   "metadata": {},
   "outputs": [],
   "source": [
    "model = Sequential()\n",
    "model.add(Conv2D(filters=32, kernel_size=(5,5), activation='relu', input_shape=X_train.shape[1:]))\n",
    "model.add(Conv2D(filters=32, kernel_size=(5,5), activation='relu'))\n",
    "model.add(MaxPool2D(pool_size=(2, 2)))\n",
    "model.add(Dropout(rate=0.25))\n",
    "model.add(Conv2D(filters=64, kernel_size=(3, 3), activation='relu'))\n",
    "model.add(Conv2D(filters=64, kernel_size=(3, 3), activation='relu'))\n",
    "model.add(MaxPool2D(pool_size=(2, 2)))\n",
    "model.add(Dropout(rate=0.25))\n",
    "model.add(Flatten())\n",
    "model.add(Dense(256, activation='relu'))\n",
    "model.add(Dropout(rate=0.5))\n",
    "model.add(Dense(10, activation='softmax'))"
   ]
  },
  {
   "cell_type": "code",
   "execution_count": 13,
   "metadata": {},
   "outputs": [],
   "source": [
    "#Compilation of the model\n",
    "model.compile(loss='categorical_crossentropy', optimizer='adam', metrics=['accuracy'])"
   ]
  },
  {
   "cell_type": "code",
   "execution_count": 14,
   "metadata": {},
   "outputs": [
    {
     "name": "stdout",
     "output_type": "stream",
     "text": [
      "Epoch 1/80\n",
      "193/193 [==============================] - 28s 136ms/step - loss: 5.7742 - accuracy: 0.1162 - val_loss: 2.1983 - val_accuracy: 0.2435\n",
      "Epoch 2/80\n",
      "193/193 [==============================] - 24s 127ms/step - loss: 2.1757 - accuracy: 0.2247 - val_loss: 2.0601 - val_accuracy: 0.2896\n",
      "Epoch 3/80\n",
      "193/193 [==============================] - 24s 125ms/step - loss: 2.0469 - accuracy: 0.2734 - val_loss: 1.9437 - val_accuracy: 0.3162\n",
      "Epoch 4/80\n",
      "193/193 [==============================] - 25s 127ms/step - loss: 1.9267 - accuracy: 0.3082 - val_loss: 1.8143 - val_accuracy: 0.3688\n",
      "Epoch 5/80\n",
      "193/193 [==============================] - 24s 127ms/step - loss: 1.7985 - accuracy: 0.3652 - val_loss: 1.6318 - val_accuracy: 0.4487\n",
      "Epoch 6/80\n",
      "193/193 [==============================] - 25s 128ms/step - loss: 1.6870 - accuracy: 0.4180 - val_loss: 1.5806 - val_accuracy: 0.4578\n",
      "Epoch 7/80\n",
      "193/193 [==============================] - 25s 127ms/step - loss: 1.6284 - accuracy: 0.4350 - val_loss: 1.4633 - val_accuracy: 0.5221\n",
      "Epoch 8/80\n",
      "193/193 [==============================] - 24s 126ms/step - loss: 1.5120 - accuracy: 0.4750 - val_loss: 1.4022 - val_accuracy: 0.5364\n",
      "Epoch 9/80\n",
      "193/193 [==============================] - 25s 130ms/step - loss: 1.4319 - accuracy: 0.5072 - val_loss: 1.2987 - val_accuracy: 0.5747\n",
      "Epoch 10/80\n",
      "193/193 [==============================] - 24s 127ms/step - loss: 1.3571 - accuracy: 0.5511 - val_loss: 1.2316 - val_accuracy: 0.5981\n",
      "Epoch 11/80\n",
      "193/193 [==============================] - 24s 125ms/step - loss: 1.2853 - accuracy: 0.5663 - val_loss: 1.1666 - val_accuracy: 0.6201\n",
      "Epoch 12/80\n",
      "193/193 [==============================] - 24s 126ms/step - loss: 1.2179 - accuracy: 0.5798 - val_loss: 1.1518 - val_accuracy: 0.6299\n",
      "Epoch 13/80\n",
      "193/193 [==============================] - 24s 126ms/step - loss: 1.1880 - accuracy: 0.5980 - val_loss: 1.1337 - val_accuracy: 0.6286\n",
      "Epoch 14/80\n",
      "193/193 [==============================] - 25s 127ms/step - loss: 1.1278 - accuracy: 0.6179 - val_loss: 1.0475 - val_accuracy: 0.6565\n",
      "Epoch 15/80\n",
      "193/193 [==============================] - 24s 127ms/step - loss: 1.0794 - accuracy: 0.6470 - val_loss: 1.0747 - val_accuracy: 0.6539\n",
      "Epoch 16/80\n",
      "193/193 [==============================] - 24s 127ms/step - loss: 1.0496 - accuracy: 0.6499 - val_loss: 0.9976 - val_accuracy: 0.6695\n",
      "Epoch 17/80\n",
      "193/193 [==============================] - 24s 126ms/step - loss: 0.9828 - accuracy: 0.6743 - val_loss: 0.9972 - val_accuracy: 0.6799\n",
      "Epoch 18/80\n",
      "193/193 [==============================] - 24s 127ms/step - loss: 0.9974 - accuracy: 0.6600 - val_loss: 0.9670 - val_accuracy: 0.6916\n",
      "Epoch 19/80\n",
      "193/193 [==============================] - 24s 122ms/step - loss: 0.9302 - accuracy: 0.6727 - val_loss: 0.8665 - val_accuracy: 0.7143\n",
      "Epoch 20/80\n",
      "193/193 [==============================] - 24s 124ms/step - loss: 0.9154 - accuracy: 0.6893 - val_loss: 0.9432 - val_accuracy: 0.6987\n",
      "Epoch 21/80\n",
      "193/193 [==============================] - 24s 126ms/step - loss: 0.8633 - accuracy: 0.7152 - val_loss: 0.7991 - val_accuracy: 0.7461\n",
      "Epoch 22/80\n",
      "193/193 [==============================] - 24s 126ms/step - loss: 0.8714 - accuracy: 0.6992 - val_loss: 0.8885 - val_accuracy: 0.7279\n",
      "Epoch 23/80\n",
      "193/193 [==============================] - 25s 127ms/step - loss: 0.8442 - accuracy: 0.7222 - val_loss: 0.8458 - val_accuracy: 0.7390\n",
      "Epoch 24/80\n",
      "193/193 [==============================] - 24s 127ms/step - loss: 0.8060 - accuracy: 0.7207 - val_loss: 0.7933 - val_accuracy: 0.7422\n",
      "Epoch 25/80\n",
      "193/193 [==============================] - 24s 126ms/step - loss: 0.7352 - accuracy: 0.7458 - val_loss: 0.8151 - val_accuracy: 0.7370\n",
      "Epoch 26/80\n",
      "193/193 [==============================] - 24s 126ms/step - loss: 0.7287 - accuracy: 0.7578 - val_loss: 0.7482 - val_accuracy: 0.7675\n",
      "Epoch 27/80\n",
      "193/193 [==============================] - 24s 125ms/step - loss: 0.7356 - accuracy: 0.7526 - val_loss: 0.7621 - val_accuracy: 0.7838\n",
      "Epoch 28/80\n",
      "193/193 [==============================] - 24s 126ms/step - loss: 0.7227 - accuracy: 0.7570 - val_loss: 0.7668 - val_accuracy: 0.7714\n",
      "Epoch 29/80\n",
      "193/193 [==============================] - 24s 126ms/step - loss: 0.6930 - accuracy: 0.7623 - val_loss: 0.7411 - val_accuracy: 0.7591\n",
      "Epoch 30/80\n",
      "193/193 [==============================] - 24s 126ms/step - loss: 0.6947 - accuracy: 0.7712 - val_loss: 0.7990 - val_accuracy: 0.7545\n",
      "Epoch 31/80\n",
      "193/193 [==============================] - 24s 127ms/step - loss: 0.6746 - accuracy: 0.7788 - val_loss: 0.7682 - val_accuracy: 0.7617\n",
      "Epoch 32/80\n",
      "193/193 [==============================] - 24s 126ms/step - loss: 0.7008 - accuracy: 0.7651 - val_loss: 0.7184 - val_accuracy: 0.7870\n",
      "Epoch 33/80\n",
      "193/193 [==============================] - 24s 125ms/step - loss: 0.6546 - accuracy: 0.7855 - val_loss: 0.7301 - val_accuracy: 0.7740\n",
      "Epoch 34/80\n",
      "193/193 [==============================] - 24s 126ms/step - loss: 0.6558 - accuracy: 0.7822 - val_loss: 0.7573 - val_accuracy: 0.7799\n",
      "Epoch 35/80\n",
      "193/193 [==============================] - 24s 126ms/step - loss: 0.6286 - accuracy: 0.7851 - val_loss: 0.7100 - val_accuracy: 0.7955\n",
      "Epoch 36/80\n",
      "193/193 [==============================] - 24s 125ms/step - loss: 0.6094 - accuracy: 0.7924 - val_loss: 0.6904 - val_accuracy: 0.7851\n",
      "Epoch 37/80\n",
      "193/193 [==============================] - 24s 125ms/step - loss: 0.5490 - accuracy: 0.8109 - val_loss: 0.6847 - val_accuracy: 0.8032\n",
      "Epoch 38/80\n",
      "193/193 [==============================] - 24s 123ms/step - loss: 0.6132 - accuracy: 0.8024 - val_loss: 0.6887 - val_accuracy: 0.7981\n",
      "Epoch 39/80\n",
      "193/193 [==============================] - 24s 124ms/step - loss: 0.5891 - accuracy: 0.8049 - val_loss: 0.6402 - val_accuracy: 0.8039\n",
      "Epoch 40/80\n",
      "193/193 [==============================] - 23s 120ms/step - loss: 0.5487 - accuracy: 0.8194 - val_loss: 0.6455 - val_accuracy: 0.8117\n",
      "Epoch 41/80\n",
      "193/193 [==============================] - 24s 124ms/step - loss: 0.5699 - accuracy: 0.8087 - val_loss: 0.7413 - val_accuracy: 0.7942\n",
      "Epoch 42/80\n",
      "193/193 [==============================] - 24s 124ms/step - loss: 0.5922 - accuracy: 0.8143 - val_loss: 0.7056 - val_accuracy: 0.7929\n",
      "Epoch 43/80\n",
      "193/193 [==============================] - 24s 124ms/step - loss: 0.5220 - accuracy: 0.8215 - val_loss: 0.7519 - val_accuracy: 0.7903\n",
      "Epoch 44/80\n",
      "193/193 [==============================] - 24s 124ms/step - loss: 0.5849 - accuracy: 0.8112 - val_loss: 0.6614 - val_accuracy: 0.8071\n",
      "Epoch 45/80\n",
      "193/193 [==============================] - 24s 124ms/step - loss: 0.5118 - accuracy: 0.8275 - val_loss: 0.5912 - val_accuracy: 0.8208\n",
      "Epoch 46/80\n",
      "193/193 [==============================] - 24s 124ms/step - loss: 0.5312 - accuracy: 0.8286 - val_loss: 0.7614 - val_accuracy: 0.7870\n",
      "Epoch 47/80\n",
      "193/193 [==============================] - 24s 125ms/step - loss: 0.6489 - accuracy: 0.8026 - val_loss: 0.6533 - val_accuracy: 0.8058\n",
      "Epoch 48/80\n",
      "193/193 [==============================] - 24s 124ms/step - loss: 0.5019 - accuracy: 0.8346 - val_loss: 0.6161 - val_accuracy: 0.8273\n",
      "Epoch 49/80\n",
      "193/193 [==============================] - 24s 124ms/step - loss: 0.5491 - accuracy: 0.8323 - val_loss: 0.6380 - val_accuracy: 0.8117\n",
      "Epoch 50/80\n",
      "193/193 [==============================] - 24s 125ms/step - loss: 0.4774 - accuracy: 0.8469 - val_loss: 0.6330 - val_accuracy: 0.8195\n",
      "Epoch 51/80\n",
      "193/193 [==============================] - 24s 124ms/step - loss: 0.4890 - accuracy: 0.8428 - val_loss: 0.6897 - val_accuracy: 0.8227\n",
      "Epoch 52/80\n",
      "193/193 [==============================] - 24s 122ms/step - loss: 0.4806 - accuracy: 0.8418 - val_loss: 0.6439 - val_accuracy: 0.8149\n",
      "Epoch 53/80\n",
      "193/193 [==============================] - 23s 119ms/step - loss: 0.4607 - accuracy: 0.8469 - val_loss: 0.6157 - val_accuracy: 0.8266\n",
      "Epoch 54/80\n",
      "193/193 [==============================] - 24s 124ms/step - loss: 0.5127 - accuracy: 0.8407 - val_loss: 0.6475 - val_accuracy: 0.7961\n",
      "Epoch 55/80\n",
      "193/193 [==============================] - 24s 124ms/step - loss: 0.5158 - accuracy: 0.8337 - val_loss: 0.5804 - val_accuracy: 0.8175\n",
      "Epoch 56/80\n",
      "193/193 [==============================] - 24s 124ms/step - loss: 0.4709 - accuracy: 0.8484 - val_loss: 0.6084 - val_accuracy: 0.8221\n",
      "Epoch 57/80\n"
     ]
    },
    {
     "name": "stdout",
     "output_type": "stream",
     "text": [
      "193/193 [==============================] - 25s 127ms/step - loss: 0.4557 - accuracy: 0.8525 - val_loss: 0.6193 - val_accuracy: 0.8149\n",
      "Epoch 58/80\n",
      "193/193 [==============================] - 24s 125ms/step - loss: 0.4518 - accuracy: 0.8503 - val_loss: 0.6107 - val_accuracy: 0.8416\n",
      "Epoch 59/80\n",
      "193/193 [==============================] - 24s 127ms/step - loss: 0.5169 - accuracy: 0.8317 - val_loss: 0.6286 - val_accuracy: 0.8175\n",
      "Epoch 60/80\n",
      "193/193 [==============================] - 24s 125ms/step - loss: 0.4608 - accuracy: 0.8417 - val_loss: 0.6442 - val_accuracy: 0.8253\n",
      "Epoch 61/80\n",
      "193/193 [==============================] - 24s 124ms/step - loss: 0.4821 - accuracy: 0.8452 - val_loss: 0.6450 - val_accuracy: 0.8104\n",
      "Epoch 62/80\n",
      "193/193 [==============================] - 24s 126ms/step - loss: 0.4696 - accuracy: 0.8428 - val_loss: 0.6260 - val_accuracy: 0.8266\n",
      "Epoch 63/80\n",
      "193/193 [==============================] - 24s 126ms/step - loss: 0.4183 - accuracy: 0.8632 - val_loss: 0.6890 - val_accuracy: 0.8123\n",
      "Epoch 64/80\n",
      "193/193 [==============================] - 24s 126ms/step - loss: 0.4291 - accuracy: 0.8615 - val_loss: 0.6179 - val_accuracy: 0.8292\n",
      "Epoch 65/80\n",
      "193/193 [==============================] - 24s 125ms/step - loss: 0.5048 - accuracy: 0.8532 - val_loss: 0.6448 - val_accuracy: 0.8162\n",
      "Epoch 66/80\n",
      "193/193 [==============================] - 23s 121ms/step - loss: 0.4631 - accuracy: 0.8537 - val_loss: 0.6150 - val_accuracy: 0.8357\n",
      "Epoch 67/80\n",
      "193/193 [==============================] - 24s 122ms/step - loss: 0.4469 - accuracy: 0.8518 - val_loss: 0.6391 - val_accuracy: 0.8331\n",
      "Epoch 68/80\n",
      "193/193 [==============================] - 24s 125ms/step - loss: 0.3841 - accuracy: 0.8712 - val_loss: 0.6640 - val_accuracy: 0.8266\n",
      "Epoch 69/80\n",
      "193/193 [==============================] - 24s 126ms/step - loss: 0.4102 - accuracy: 0.8674 - val_loss: 0.6816 - val_accuracy: 0.8260\n",
      "Epoch 70/80\n",
      "193/193 [==============================] - 24s 125ms/step - loss: 0.4205 - accuracy: 0.8561 - val_loss: 0.6491 - val_accuracy: 0.8299\n",
      "Epoch 71/80\n",
      "193/193 [==============================] - 24s 126ms/step - loss: 0.4724 - accuracy: 0.8474 - val_loss: 0.6304 - val_accuracy: 0.8474\n",
      "Epoch 72/80\n",
      "193/193 [==============================] - 24s 127ms/step - loss: 0.4456 - accuracy: 0.8529 - val_loss: 0.6434 - val_accuracy: 0.8351\n",
      "Epoch 73/80\n",
      "193/193 [==============================] - 24s 127ms/step - loss: 0.3946 - accuracy: 0.8700 - val_loss: 0.6804 - val_accuracy: 0.8396\n",
      "Epoch 74/80\n",
      "193/193 [==============================] - 24s 126ms/step - loss: 0.4410 - accuracy: 0.8670 - val_loss: 0.5552 - val_accuracy: 0.8474\n",
      "Epoch 75/80\n",
      "193/193 [==============================] - 24s 126ms/step - loss: 0.3727 - accuracy: 0.8755 - val_loss: 0.6118 - val_accuracy: 0.8370\n",
      "Epoch 76/80\n",
      "193/193 [==============================] - 24s 125ms/step - loss: 0.4049 - accuracy: 0.8701 - val_loss: 0.6381 - val_accuracy: 0.8442\n",
      "Epoch 77/80\n",
      "193/193 [==============================] - 24s 125ms/step - loss: 0.4343 - accuracy: 0.8589 - val_loss: 0.6528 - val_accuracy: 0.8305\n",
      "Epoch 78/80\n",
      "193/193 [==============================] - 24s 125ms/step - loss: 0.4260 - accuracy: 0.8549 - val_loss: 0.5751 - val_accuracy: 0.8500\n",
      "Epoch 79/80\n",
      "193/193 [==============================] - 24s 126ms/step - loss: 0.4106 - accuracy: 0.8702 - val_loss: 0.6233 - val_accuracy: 0.8260\n",
      "Epoch 80/80\n",
      "193/193 [==============================] - 24s 126ms/step - loss: 0.4075 - accuracy: 0.8681 - val_loss: 0.6861 - val_accuracy: 0.8429\n"
     ]
    }
   ],
   "source": [
    "epochs = 80\n",
    "history = model.fit(X_train, y_train, batch_size=32, epochs=epochs, validation_data=(X_test, y_test))"
   ]
  },
  {
   "cell_type": "code",
   "execution_count": 15,
   "metadata": {},
   "outputs": [
    {
     "data": {
      "image/png": "[encoded data removed]",
      "text/plain": [
       "<Figure size 432x288 with 1 Axes>"
      ]
     },
     "metadata": {
      "needs_background": "light"
     },
     "output_type": "display_data"
    }
   ],
   "source": [
    "# accuracy \n",
    "plt.figure(0)\n",
    "plt.plot(history.history['accuracy'], label='training accuracy')\n",
    "plt.plot(history.history['val_accuracy'], label='val accuracy')\n",
    "plt.title('Accuracy')\n",
    "plt.xlabel('epochs')\n",
    "plt.ylabel('accuracy')\n",
    "plt.legend()\n",
    "plt.show()"
   ]
  },
  {
   "cell_type": "code",
   "execution_count": 16,
   "metadata": {},
   "outputs": [
    {
     "data": {
      "image/png": "[encoded data removed]",
      "text/plain": [
       "<Figure size 432x288 with 1 Axes>"
      ]
     },
     "metadata": {
      "needs_background": "light"
     },
     "output_type": "display_data"
    }
   ],
   "source": [
    "# Loss\n",
    "plt.plot(history.history['loss'], label='training loss')\n",
    "plt.plot(history.history['val_loss'], label='val loss')\n",
    "plt.title('Loss')\n",
    "plt.xlabel('epochs')\n",
    "plt.ylabel('loss')\n",
    "plt.legend()\n",
    "plt.show()"
   ]
  },
  {
   "cell_type": "markdown",
   "metadata": {},
   "source": [
    "## Save the model"
   ]
  },
  {
   "cell_type": "code",
   "execution_count": 26,
   "metadata": {},
   "outputs": [],
   "source": [
    "model.save(\"./TSR.h5\")"
   ]
  }
 ],
 "metadata": {
  "kernelspec": {
   "display_name": "Python 3",
   "language": "python",
   "name": "python3"
  },
  "language_info": {
   "codemirror_mode": {
    "name": "ipython",
    "version": 3
   },
   "file_extension": ".py",
   "mimetype": "text/x-python",
   "name": "python",
   "nbconvert_exporter": "python",
   "pygments_lexer": "ipython3",
   "version": "3.8.5"
  }
 },
 "nbformat": 4,
 "nbformat_minor": 4
}
